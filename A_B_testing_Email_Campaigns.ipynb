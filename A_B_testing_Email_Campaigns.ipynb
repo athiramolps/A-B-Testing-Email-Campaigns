{
  "nbformat": 4,
  "nbformat_minor": 0,
  "metadata": {
    "colab": {
      "provenance": []
    },
    "kernelspec": {
      "name": "python3",
      "display_name": "Python 3"
    },
    "language_info": {
      "name": "python"
    }
  },
  "cells": [
    {
      "cell_type": "markdown",
      "source": [
        "# IMPORTING IBRARIES"
      ],
      "metadata": {
        "id": "RJWleZemBwCX"
      }
    },
    {
      "cell_type": "code",
      "source": [
        "import numpy as np\n",
        "import pandas as pd\n",
        "from scipy import stats\n",
        "import numpy as np\n",
        "import matplotlib.pyplot as plt\n",
        "from scipy.stats import ttest_ind"
      ],
      "metadata": {
        "id": "zixzHXbUJ1-O"
      },
      "execution_count": 82,
      "outputs": []
    },
    {
      "cell_type": "markdown",
      "source": [
        "# LOADING DATA"
      ],
      "metadata": {
        "id": "a0pCncC7NFM9"
      }
    },
    {
      "cell_type": "code",
      "source": [
        "# Load the data into a pandas DataFrame\n",
        "data = pd.read_excel('abtesting_1.xlsx')"
      ],
      "metadata": {
        "id": "iQAr9gvbJ2QZ"
      },
      "execution_count": 83,
      "outputs": []
    },
    {
      "cell_type": "markdown",
      "source": [
        "# INSPECTING DATA"
      ],
      "metadata": {
        "id": "BORU8IQWLjb6"
      }
    },
    {
      "cell_type": "markdown",
      "source": [
        "SUBJECT LINE A=\"GET 20% OFF YOUR FIRST PURCHASE!\"\n",
        "\n",
        "SUBJECT LINE B=\"NEW CUSTOMER OFFER: 20% DISCOUNT CODE INSIDE\""
      ],
      "metadata": {
        "id": "A2OydN-5L5mE"
      }
    },
    {
      "cell_type": "code",
      "source": [
        "data"
      ],
      "metadata": {
        "colab": {
          "base_uri": "https://localhost:8080/",
          "height": 1000
        },
        "id": "oIuCRrVsLUGz",
        "outputId": "1faba103-2518-49ed-8662-48b36fed2bb7"
      },
      "execution_count": 84,
      "outputs": [
        {
          "output_type": "execute_result",
          "data": {
            "text/plain": [
              "   Subject Line  Open Rate Email Group\n",
              "0             A       0.12     Group A\n",
              "1             A       0.13     Group A\n",
              "2             A       0.15     Group A\n",
              "3             A       0.16     Group A\n",
              "4             A       0.14     Group A\n",
              "5             A       0.18     Group A\n",
              "6             A       0.19     Group A\n",
              "7             A       0.17     Group A\n",
              "8             A       0.16     Group A\n",
              "9             A       0.20     Group A\n",
              "10            B       0.21     Group B\n",
              "11            B       0.22     Group B\n",
              "12            B       0.20     Group B\n",
              "13            B       0.19     Group B\n",
              "14            B       0.18     Group B\n",
              "15            B       0.17     Group B\n",
              "16            B       0.16     Group B\n",
              "17            B       0.15     Group B\n",
              "18            B       0.14     Group B\n",
              "19            B       0.13     Group B\n",
              "20            A       0.11     Group A\n",
              "21            A       0.12     Group A\n",
              "22            A       0.13     Group A\n",
              "23            A       0.14     Group A\n",
              "24            A       0.15     Group A\n",
              "25            A       0.16     Group A\n",
              "26            A       0.17     Group A\n",
              "27            A       0.18     Group A\n",
              "28            A       0.19     Group A\n",
              "29            A       0.20     Group A\n",
              "30            B       0.21     Group B\n",
              "31            B       0.22     Group B\n",
              "32            B       0.23     Group B\n",
              "33            B       0.24     Group B\n",
              "34            B       0.25     Group B\n",
              "35            B       0.26     Group B\n",
              "36            B       0.27     Group B\n",
              "37            B       0.28     Group B\n",
              "38            B       0.29     Group B\n",
              "39            B       0.30     Group A"
            ],
            "text/html": [
              "\n",
              "  <div id=\"df-1e89a35d-24fa-44a0-b076-ece5c3c8c5ae\">\n",
              "    <div class=\"colab-df-container\">\n",
              "      <div>\n",
              "<style scoped>\n",
              "    .dataframe tbody tr th:only-of-type {\n",
              "        vertical-align: middle;\n",
              "    }\n",
              "\n",
              "    .dataframe tbody tr th {\n",
              "        vertical-align: top;\n",
              "    }\n",
              "\n",
              "    .dataframe thead th {\n",
              "        text-align: right;\n",
              "    }\n",
              "</style>\n",
              "<table border=\"1\" class=\"dataframe\">\n",
              "  <thead>\n",
              "    <tr style=\"text-align: right;\">\n",
              "      <th></th>\n",
              "      <th>Subject Line</th>\n",
              "      <th>Open Rate</th>\n",
              "      <th>Email Group</th>\n",
              "    </tr>\n",
              "  </thead>\n",
              "  <tbody>\n",
              "    <tr>\n",
              "      <th>0</th>\n",
              "      <td>A</td>\n",
              "      <td>0.12</td>\n",
              "      <td>Group A</td>\n",
              "    </tr>\n",
              "    <tr>\n",
              "      <th>1</th>\n",
              "      <td>A</td>\n",
              "      <td>0.13</td>\n",
              "      <td>Group A</td>\n",
              "    </tr>\n",
              "    <tr>\n",
              "      <th>2</th>\n",
              "      <td>A</td>\n",
              "      <td>0.15</td>\n",
              "      <td>Group A</td>\n",
              "    </tr>\n",
              "    <tr>\n",
              "      <th>3</th>\n",
              "      <td>A</td>\n",
              "      <td>0.16</td>\n",
              "      <td>Group A</td>\n",
              "    </tr>\n",
              "    <tr>\n",
              "      <th>4</th>\n",
              "      <td>A</td>\n",
              "      <td>0.14</td>\n",
              "      <td>Group A</td>\n",
              "    </tr>\n",
              "    <tr>\n",
              "      <th>5</th>\n",
              "      <td>A</td>\n",
              "      <td>0.18</td>\n",
              "      <td>Group A</td>\n",
              "    </tr>\n",
              "    <tr>\n",
              "      <th>6</th>\n",
              "      <td>A</td>\n",
              "      <td>0.19</td>\n",
              "      <td>Group A</td>\n",
              "    </tr>\n",
              "    <tr>\n",
              "      <th>7</th>\n",
              "      <td>A</td>\n",
              "      <td>0.17</td>\n",
              "      <td>Group A</td>\n",
              "    </tr>\n",
              "    <tr>\n",
              "      <th>8</th>\n",
              "      <td>A</td>\n",
              "      <td>0.16</td>\n",
              "      <td>Group A</td>\n",
              "    </tr>\n",
              "    <tr>\n",
              "      <th>9</th>\n",
              "      <td>A</td>\n",
              "      <td>0.20</td>\n",
              "      <td>Group A</td>\n",
              "    </tr>\n",
              "    <tr>\n",
              "      <th>10</th>\n",
              "      <td>B</td>\n",
              "      <td>0.21</td>\n",
              "      <td>Group B</td>\n",
              "    </tr>\n",
              "    <tr>\n",
              "      <th>11</th>\n",
              "      <td>B</td>\n",
              "      <td>0.22</td>\n",
              "      <td>Group B</td>\n",
              "    </tr>\n",
              "    <tr>\n",
              "      <th>12</th>\n",
              "      <td>B</td>\n",
              "      <td>0.20</td>\n",
              "      <td>Group B</td>\n",
              "    </tr>\n",
              "    <tr>\n",
              "      <th>13</th>\n",
              "      <td>B</td>\n",
              "      <td>0.19</td>\n",
              "      <td>Group B</td>\n",
              "    </tr>\n",
              "    <tr>\n",
              "      <th>14</th>\n",
              "      <td>B</td>\n",
              "      <td>0.18</td>\n",
              "      <td>Group B</td>\n",
              "    </tr>\n",
              "    <tr>\n",
              "      <th>15</th>\n",
              "      <td>B</td>\n",
              "      <td>0.17</td>\n",
              "      <td>Group B</td>\n",
              "    </tr>\n",
              "    <tr>\n",
              "      <th>16</th>\n",
              "      <td>B</td>\n",
              "      <td>0.16</td>\n",
              "      <td>Group B</td>\n",
              "    </tr>\n",
              "    <tr>\n",
              "      <th>17</th>\n",
              "      <td>B</td>\n",
              "      <td>0.15</td>\n",
              "      <td>Group B</td>\n",
              "    </tr>\n",
              "    <tr>\n",
              "      <th>18</th>\n",
              "      <td>B</td>\n",
              "      <td>0.14</td>\n",
              "      <td>Group B</td>\n",
              "    </tr>\n",
              "    <tr>\n",
              "      <th>19</th>\n",
              "      <td>B</td>\n",
              "      <td>0.13</td>\n",
              "      <td>Group B</td>\n",
              "    </tr>\n",
              "    <tr>\n",
              "      <th>20</th>\n",
              "      <td>A</td>\n",
              "      <td>0.11</td>\n",
              "      <td>Group A</td>\n",
              "    </tr>\n",
              "    <tr>\n",
              "      <th>21</th>\n",
              "      <td>A</td>\n",
              "      <td>0.12</td>\n",
              "      <td>Group A</td>\n",
              "    </tr>\n",
              "    <tr>\n",
              "      <th>22</th>\n",
              "      <td>A</td>\n",
              "      <td>0.13</td>\n",
              "      <td>Group A</td>\n",
              "    </tr>\n",
              "    <tr>\n",
              "      <th>23</th>\n",
              "      <td>A</td>\n",
              "      <td>0.14</td>\n",
              "      <td>Group A</td>\n",
              "    </tr>\n",
              "    <tr>\n",
              "      <th>24</th>\n",
              "      <td>A</td>\n",
              "      <td>0.15</td>\n",
              "      <td>Group A</td>\n",
              "    </tr>\n",
              "    <tr>\n",
              "      <th>25</th>\n",
              "      <td>A</td>\n",
              "      <td>0.16</td>\n",
              "      <td>Group A</td>\n",
              "    </tr>\n",
              "    <tr>\n",
              "      <th>26</th>\n",
              "      <td>A</td>\n",
              "      <td>0.17</td>\n",
              "      <td>Group A</td>\n",
              "    </tr>\n",
              "    <tr>\n",
              "      <th>27</th>\n",
              "      <td>A</td>\n",
              "      <td>0.18</td>\n",
              "      <td>Group A</td>\n",
              "    </tr>\n",
              "    <tr>\n",
              "      <th>28</th>\n",
              "      <td>A</td>\n",
              "      <td>0.19</td>\n",
              "      <td>Group A</td>\n",
              "    </tr>\n",
              "    <tr>\n",
              "      <th>29</th>\n",
              "      <td>A</td>\n",
              "      <td>0.20</td>\n",
              "      <td>Group A</td>\n",
              "    </tr>\n",
              "    <tr>\n",
              "      <th>30</th>\n",
              "      <td>B</td>\n",
              "      <td>0.21</td>\n",
              "      <td>Group B</td>\n",
              "    </tr>\n",
              "    <tr>\n",
              "      <th>31</th>\n",
              "      <td>B</td>\n",
              "      <td>0.22</td>\n",
              "      <td>Group B</td>\n",
              "    </tr>\n",
              "    <tr>\n",
              "      <th>32</th>\n",
              "      <td>B</td>\n",
              "      <td>0.23</td>\n",
              "      <td>Group B</td>\n",
              "    </tr>\n",
              "    <tr>\n",
              "      <th>33</th>\n",
              "      <td>B</td>\n",
              "      <td>0.24</td>\n",
              "      <td>Group B</td>\n",
              "    </tr>\n",
              "    <tr>\n",
              "      <th>34</th>\n",
              "      <td>B</td>\n",
              "      <td>0.25</td>\n",
              "      <td>Group B</td>\n",
              "    </tr>\n",
              "    <tr>\n",
              "      <th>35</th>\n",
              "      <td>B</td>\n",
              "      <td>0.26</td>\n",
              "      <td>Group B</td>\n",
              "    </tr>\n",
              "    <tr>\n",
              "      <th>36</th>\n",
              "      <td>B</td>\n",
              "      <td>0.27</td>\n",
              "      <td>Group B</td>\n",
              "    </tr>\n",
              "    <tr>\n",
              "      <th>37</th>\n",
              "      <td>B</td>\n",
              "      <td>0.28</td>\n",
              "      <td>Group B</td>\n",
              "    </tr>\n",
              "    <tr>\n",
              "      <th>38</th>\n",
              "      <td>B</td>\n",
              "      <td>0.29</td>\n",
              "      <td>Group B</td>\n",
              "    </tr>\n",
              "    <tr>\n",
              "      <th>39</th>\n",
              "      <td>B</td>\n",
              "      <td>0.30</td>\n",
              "      <td>Group A</td>\n",
              "    </tr>\n",
              "  </tbody>\n",
              "</table>\n",
              "</div>\n",
              "      <button class=\"colab-df-convert\" onclick=\"convertToInteractive('df-1e89a35d-24fa-44a0-b076-ece5c3c8c5ae')\"\n",
              "              title=\"Convert this dataframe to an interactive table.\"\n",
              "              style=\"display:none;\">\n",
              "        \n",
              "  <svg xmlns=\"http://www.w3.org/2000/svg\" height=\"24px\"viewBox=\"0 0 24 24\"\n",
              "       width=\"24px\">\n",
              "    <path d=\"M0 0h24v24H0V0z\" fill=\"none\"/>\n",
              "    <path d=\"M18.56 5.44l.94 2.06.94-2.06 2.06-.94-2.06-.94-.94-2.06-.94 2.06-2.06.94zm-11 1L8.5 8.5l.94-2.06 2.06-.94-2.06-.94L8.5 2.5l-.94 2.06-2.06.94zm10 10l.94 2.06.94-2.06 2.06-.94-2.06-.94-.94-2.06-.94 2.06-2.06.94z\"/><path d=\"M17.41 7.96l-1.37-1.37c-.4-.4-.92-.59-1.43-.59-.52 0-1.04.2-1.43.59L10.3 9.45l-7.72 7.72c-.78.78-.78 2.05 0 2.83L4 21.41c.39.39.9.59 1.41.59.51 0 1.02-.2 1.41-.59l7.78-7.78 2.81-2.81c.8-.78.8-2.07 0-2.86zM5.41 20L4 18.59l7.72-7.72 1.47 1.35L5.41 20z\"/>\n",
              "  </svg>\n",
              "      </button>\n",
              "      \n",
              "  <style>\n",
              "    .colab-df-container {\n",
              "      display:flex;\n",
              "      flex-wrap:wrap;\n",
              "      gap: 12px;\n",
              "    }\n",
              "\n",
              "    .colab-df-convert {\n",
              "      background-color: #E8F0FE;\n",
              "      border: none;\n",
              "      border-radius: 50%;\n",
              "      cursor: pointer;\n",
              "      display: none;\n",
              "      fill: #1967D2;\n",
              "      height: 32px;\n",
              "      padding: 0 0 0 0;\n",
              "      width: 32px;\n",
              "    }\n",
              "\n",
              "    .colab-df-convert:hover {\n",
              "      background-color: #E2EBFA;\n",
              "      box-shadow: 0px 1px 2px rgba(60, 64, 67, 0.3), 0px 1px 3px 1px rgba(60, 64, 67, 0.15);\n",
              "      fill: #174EA6;\n",
              "    }\n",
              "\n",
              "    [theme=dark] .colab-df-convert {\n",
              "      background-color: #3B4455;\n",
              "      fill: #D2E3FC;\n",
              "    }\n",
              "\n",
              "    [theme=dark] .colab-df-convert:hover {\n",
              "      background-color: #434B5C;\n",
              "      box-shadow: 0px 1px 3px 1px rgba(0, 0, 0, 0.15);\n",
              "      filter: drop-shadow(0px 1px 2px rgba(0, 0, 0, 0.3));\n",
              "      fill: #FFFFFF;\n",
              "    }\n",
              "  </style>\n",
              "\n",
              "      <script>\n",
              "        const buttonEl =\n",
              "          document.querySelector('#df-1e89a35d-24fa-44a0-b076-ece5c3c8c5ae button.colab-df-convert');\n",
              "        buttonEl.style.display =\n",
              "          google.colab.kernel.accessAllowed ? 'block' : 'none';\n",
              "\n",
              "        async function convertToInteractive(key) {\n",
              "          const element = document.querySelector('#df-1e89a35d-24fa-44a0-b076-ece5c3c8c5ae');\n",
              "          const dataTable =\n",
              "            await google.colab.kernel.invokeFunction('convertToInteractive',\n",
              "                                                     [key], {});\n",
              "          if (!dataTable) return;\n",
              "\n",
              "          const docLinkHtml = 'Like what you see? Visit the ' +\n",
              "            '<a target=\"_blank\" href=https://colab.research.google.com/notebooks/data_table.ipynb>data table notebook</a>'\n",
              "            + ' to learn more about interactive tables.';\n",
              "          element.innerHTML = '';\n",
              "          dataTable['output_type'] = 'display_data';\n",
              "          await google.colab.output.renderOutput(dataTable, element);\n",
              "          const docLink = document.createElement('div');\n",
              "          docLink.innerHTML = docLinkHtml;\n",
              "          element.appendChild(docLink);\n",
              "        }\n",
              "      </script>\n",
              "    </div>\n",
              "  </div>\n",
              "  "
            ]
          },
          "metadata": {},
          "execution_count": 84
        }
      ]
    },
    {
      "cell_type": "code",
      "source": [
        "data.head(1)"
      ],
      "metadata": {
        "colab": {
          "base_uri": "https://localhost:8080/",
          "height": 81
        },
        "id": "sG0dNh5AL9Qo",
        "outputId": "a2a5de1f-8fc3-4503-d7ec-8092d2eac2a7"
      },
      "execution_count": 85,
      "outputs": [
        {
          "output_type": "execute_result",
          "data": {
            "text/plain": [
              "  Subject Line  Open Rate Email Group\n",
              "0            A       0.12     Group A"
            ],
            "text/html": [
              "\n",
              "  <div id=\"df-d5eb893e-a3b3-41c6-b4ea-1c493a676a4c\">\n",
              "    <div class=\"colab-df-container\">\n",
              "      <div>\n",
              "<style scoped>\n",
              "    .dataframe tbody tr th:only-of-type {\n",
              "        vertical-align: middle;\n",
              "    }\n",
              "\n",
              "    .dataframe tbody tr th {\n",
              "        vertical-align: top;\n",
              "    }\n",
              "\n",
              "    .dataframe thead th {\n",
              "        text-align: right;\n",
              "    }\n",
              "</style>\n",
              "<table border=\"1\" class=\"dataframe\">\n",
              "  <thead>\n",
              "    <tr style=\"text-align: right;\">\n",
              "      <th></th>\n",
              "      <th>Subject Line</th>\n",
              "      <th>Open Rate</th>\n",
              "      <th>Email Group</th>\n",
              "    </tr>\n",
              "  </thead>\n",
              "  <tbody>\n",
              "    <tr>\n",
              "      <th>0</th>\n",
              "      <td>A</td>\n",
              "      <td>0.12</td>\n",
              "      <td>Group A</td>\n",
              "    </tr>\n",
              "  </tbody>\n",
              "</table>\n",
              "</div>\n",
              "      <button class=\"colab-df-convert\" onclick=\"convertToInteractive('df-d5eb893e-a3b3-41c6-b4ea-1c493a676a4c')\"\n",
              "              title=\"Convert this dataframe to an interactive table.\"\n",
              "              style=\"display:none;\">\n",
              "        \n",
              "  <svg xmlns=\"http://www.w3.org/2000/svg\" height=\"24px\"viewBox=\"0 0 24 24\"\n",
              "       width=\"24px\">\n",
              "    <path d=\"M0 0h24v24H0V0z\" fill=\"none\"/>\n",
              "    <path d=\"M18.56 5.44l.94 2.06.94-2.06 2.06-.94-2.06-.94-.94-2.06-.94 2.06-2.06.94zm-11 1L8.5 8.5l.94-2.06 2.06-.94-2.06-.94L8.5 2.5l-.94 2.06-2.06.94zm10 10l.94 2.06.94-2.06 2.06-.94-2.06-.94-.94-2.06-.94 2.06-2.06.94z\"/><path d=\"M17.41 7.96l-1.37-1.37c-.4-.4-.92-.59-1.43-.59-.52 0-1.04.2-1.43.59L10.3 9.45l-7.72 7.72c-.78.78-.78 2.05 0 2.83L4 21.41c.39.39.9.59 1.41.59.51 0 1.02-.2 1.41-.59l7.78-7.78 2.81-2.81c.8-.78.8-2.07 0-2.86zM5.41 20L4 18.59l7.72-7.72 1.47 1.35L5.41 20z\"/>\n",
              "  </svg>\n",
              "      </button>\n",
              "      \n",
              "  <style>\n",
              "    .colab-df-container {\n",
              "      display:flex;\n",
              "      flex-wrap:wrap;\n",
              "      gap: 12px;\n",
              "    }\n",
              "\n",
              "    .colab-df-convert {\n",
              "      background-color: #E8F0FE;\n",
              "      border: none;\n",
              "      border-radius: 50%;\n",
              "      cursor: pointer;\n",
              "      display: none;\n",
              "      fill: #1967D2;\n",
              "      height: 32px;\n",
              "      padding: 0 0 0 0;\n",
              "      width: 32px;\n",
              "    }\n",
              "\n",
              "    .colab-df-convert:hover {\n",
              "      background-color: #E2EBFA;\n",
              "      box-shadow: 0px 1px 2px rgba(60, 64, 67, 0.3), 0px 1px 3px 1px rgba(60, 64, 67, 0.15);\n",
              "      fill: #174EA6;\n",
              "    }\n",
              "\n",
              "    [theme=dark] .colab-df-convert {\n",
              "      background-color: #3B4455;\n",
              "      fill: #D2E3FC;\n",
              "    }\n",
              "\n",
              "    [theme=dark] .colab-df-convert:hover {\n",
              "      background-color: #434B5C;\n",
              "      box-shadow: 0px 1px 3px 1px rgba(0, 0, 0, 0.15);\n",
              "      filter: drop-shadow(0px 1px 2px rgba(0, 0, 0, 0.3));\n",
              "      fill: #FFFFFF;\n",
              "    }\n",
              "  </style>\n",
              "\n",
              "      <script>\n",
              "        const buttonEl =\n",
              "          document.querySelector('#df-d5eb893e-a3b3-41c6-b4ea-1c493a676a4c button.colab-df-convert');\n",
              "        buttonEl.style.display =\n",
              "          google.colab.kernel.accessAllowed ? 'block' : 'none';\n",
              "\n",
              "        async function convertToInteractive(key) {\n",
              "          const element = document.querySelector('#df-d5eb893e-a3b3-41c6-b4ea-1c493a676a4c');\n",
              "          const dataTable =\n",
              "            await google.colab.kernel.invokeFunction('convertToInteractive',\n",
              "                                                     [key], {});\n",
              "          if (!dataTable) return;\n",
              "\n",
              "          const docLinkHtml = 'Like what you see? Visit the ' +\n",
              "            '<a target=\"_blank\" href=https://colab.research.google.com/notebooks/data_table.ipynb>data table notebook</a>'\n",
              "            + ' to learn more about interactive tables.';\n",
              "          element.innerHTML = '';\n",
              "          dataTable['output_type'] = 'display_data';\n",
              "          await google.colab.output.renderOutput(dataTable, element);\n",
              "          const docLink = document.createElement('div');\n",
              "          docLink.innerHTML = docLinkHtml;\n",
              "          element.appendChild(docLink);\n",
              "        }\n",
              "      </script>\n",
              "    </div>\n",
              "  </div>\n",
              "  "
            ]
          },
          "metadata": {},
          "execution_count": 85
        }
      ]
    },
    {
      "cell_type": "code",
      "source": [
        "data.tail(1)"
      ],
      "metadata": {
        "colab": {
          "base_uri": "https://localhost:8080/",
          "height": 81
        },
        "id": "bjJKK0sKMBP7",
        "outputId": "266c4c6f-dc99-4e54-e09b-8fe0fe640b27"
      },
      "execution_count": 86,
      "outputs": [
        {
          "output_type": "execute_result",
          "data": {
            "text/plain": [
              "   Subject Line  Open Rate Email Group\n",
              "39            B        0.3     Group A"
            ],
            "text/html": [
              "\n",
              "  <div id=\"df-e44eb17b-32ec-41bb-967f-1ed926c966c4\">\n",
              "    <div class=\"colab-df-container\">\n",
              "      <div>\n",
              "<style scoped>\n",
              "    .dataframe tbody tr th:only-of-type {\n",
              "        vertical-align: middle;\n",
              "    }\n",
              "\n",
              "    .dataframe tbody tr th {\n",
              "        vertical-align: top;\n",
              "    }\n",
              "\n",
              "    .dataframe thead th {\n",
              "        text-align: right;\n",
              "    }\n",
              "</style>\n",
              "<table border=\"1\" class=\"dataframe\">\n",
              "  <thead>\n",
              "    <tr style=\"text-align: right;\">\n",
              "      <th></th>\n",
              "      <th>Subject Line</th>\n",
              "      <th>Open Rate</th>\n",
              "      <th>Email Group</th>\n",
              "    </tr>\n",
              "  </thead>\n",
              "  <tbody>\n",
              "    <tr>\n",
              "      <th>39</th>\n",
              "      <td>B</td>\n",
              "      <td>0.3</td>\n",
              "      <td>Group A</td>\n",
              "    </tr>\n",
              "  </tbody>\n",
              "</table>\n",
              "</div>\n",
              "      <button class=\"colab-df-convert\" onclick=\"convertToInteractive('df-e44eb17b-32ec-41bb-967f-1ed926c966c4')\"\n",
              "              title=\"Convert this dataframe to an interactive table.\"\n",
              "              style=\"display:none;\">\n",
              "        \n",
              "  <svg xmlns=\"http://www.w3.org/2000/svg\" height=\"24px\"viewBox=\"0 0 24 24\"\n",
              "       width=\"24px\">\n",
              "    <path d=\"M0 0h24v24H0V0z\" fill=\"none\"/>\n",
              "    <path d=\"M18.56 5.44l.94 2.06.94-2.06 2.06-.94-2.06-.94-.94-2.06-.94 2.06-2.06.94zm-11 1L8.5 8.5l.94-2.06 2.06-.94-2.06-.94L8.5 2.5l-.94 2.06-2.06.94zm10 10l.94 2.06.94-2.06 2.06-.94-2.06-.94-.94-2.06-.94 2.06-2.06.94z\"/><path d=\"M17.41 7.96l-1.37-1.37c-.4-.4-.92-.59-1.43-.59-.52 0-1.04.2-1.43.59L10.3 9.45l-7.72 7.72c-.78.78-.78 2.05 0 2.83L4 21.41c.39.39.9.59 1.41.59.51 0 1.02-.2 1.41-.59l7.78-7.78 2.81-2.81c.8-.78.8-2.07 0-2.86zM5.41 20L4 18.59l7.72-7.72 1.47 1.35L5.41 20z\"/>\n",
              "  </svg>\n",
              "      </button>\n",
              "      \n",
              "  <style>\n",
              "    .colab-df-container {\n",
              "      display:flex;\n",
              "      flex-wrap:wrap;\n",
              "      gap: 12px;\n",
              "    }\n",
              "\n",
              "    .colab-df-convert {\n",
              "      background-color: #E8F0FE;\n",
              "      border: none;\n",
              "      border-radius: 50%;\n",
              "      cursor: pointer;\n",
              "      display: none;\n",
              "      fill: #1967D2;\n",
              "      height: 32px;\n",
              "      padding: 0 0 0 0;\n",
              "      width: 32px;\n",
              "    }\n",
              "\n",
              "    .colab-df-convert:hover {\n",
              "      background-color: #E2EBFA;\n",
              "      box-shadow: 0px 1px 2px rgba(60, 64, 67, 0.3), 0px 1px 3px 1px rgba(60, 64, 67, 0.15);\n",
              "      fill: #174EA6;\n",
              "    }\n",
              "\n",
              "    [theme=dark] .colab-df-convert {\n",
              "      background-color: #3B4455;\n",
              "      fill: #D2E3FC;\n",
              "    }\n",
              "\n",
              "    [theme=dark] .colab-df-convert:hover {\n",
              "      background-color: #434B5C;\n",
              "      box-shadow: 0px 1px 3px 1px rgba(0, 0, 0, 0.15);\n",
              "      filter: drop-shadow(0px 1px 2px rgba(0, 0, 0, 0.3));\n",
              "      fill: #FFFFFF;\n",
              "    }\n",
              "  </style>\n",
              "\n",
              "      <script>\n",
              "        const buttonEl =\n",
              "          document.querySelector('#df-e44eb17b-32ec-41bb-967f-1ed926c966c4 button.colab-df-convert');\n",
              "        buttonEl.style.display =\n",
              "          google.colab.kernel.accessAllowed ? 'block' : 'none';\n",
              "\n",
              "        async function convertToInteractive(key) {\n",
              "          const element = document.querySelector('#df-e44eb17b-32ec-41bb-967f-1ed926c966c4');\n",
              "          const dataTable =\n",
              "            await google.colab.kernel.invokeFunction('convertToInteractive',\n",
              "                                                     [key], {});\n",
              "          if (!dataTable) return;\n",
              "\n",
              "          const docLinkHtml = 'Like what you see? Visit the ' +\n",
              "            '<a target=\"_blank\" href=https://colab.research.google.com/notebooks/data_table.ipynb>data table notebook</a>'\n",
              "            + ' to learn more about interactive tables.';\n",
              "          element.innerHTML = '';\n",
              "          dataTable['output_type'] = 'display_data';\n",
              "          await google.colab.output.renderOutput(dataTable, element);\n",
              "          const docLink = document.createElement('div');\n",
              "          docLink.innerHTML = docLinkHtml;\n",
              "          element.appendChild(docLink);\n",
              "        }\n",
              "      </script>\n",
              "    </div>\n",
              "  </div>\n",
              "  "
            ]
          },
          "metadata": {},
          "execution_count": 86
        }
      ]
    },
    {
      "cell_type": "code",
      "source": [
        "data.info()"
      ],
      "metadata": {
        "colab": {
          "base_uri": "https://localhost:8080/"
        },
        "id": "pwU4psx8LqPM",
        "outputId": "ff920009-d2cb-47cf-e9e6-82c706acc6a2"
      },
      "execution_count": 87,
      "outputs": [
        {
          "output_type": "stream",
          "name": "stdout",
          "text": [
            "<class 'pandas.core.frame.DataFrame'>\n",
            "RangeIndex: 40 entries, 0 to 39\n",
            "Data columns (total 3 columns):\n",
            " #   Column        Non-Null Count  Dtype  \n",
            "---  ------        --------------  -----  \n",
            " 0   Subject Line  40 non-null     object \n",
            " 1   Open Rate     40 non-null     float64\n",
            " 2   Email Group   40 non-null     object \n",
            "dtypes: float64(1), object(2)\n",
            "memory usage: 1.1+ KB\n"
          ]
        }
      ]
    },
    {
      "cell_type": "code",
      "source": [
        "# Check for null values\n",
        "null_values = data.isnull().sum()\n",
        "\n",
        "# Print the number of null values for each column\n",
        "print(null_values)"
      ],
      "metadata": {
        "colab": {
          "base_uri": "https://localhost:8080/"
        },
        "id": "RL9sEB0qLqqR",
        "outputId": "20ad8e35-92df-44aa-881d-4117cfed9c22"
      },
      "execution_count": 88,
      "outputs": [
        {
          "output_type": "stream",
          "name": "stdout",
          "text": [
            "Subject Line    0\n",
            "Open Rate       0\n",
            "Email Group     0\n",
            "dtype: int64\n"
          ]
        }
      ]
    },
    {
      "cell_type": "markdown",
      "source": [
        "# DATA ANALYSING"
      ],
      "metadata": {
        "id": "gcP389Z-Msom"
      }
    },
    {
      "cell_type": "code",
      "source": [
        "# Calculate the average open rate for each subject line\n",
        "subject_line_a = data[data['Subject Line'] == 'A']['Open Rate']\n",
        "subject_line_b = data[data['Subject Line'] == 'B']['Open Rate']\n",
        "average_open_rate_a = np.mean(subject_line_a)\n",
        "average_open_rate_b = np.mean(subject_line_b)"
      ],
      "metadata": {
        "id": "0YjX4BLlPkPB"
      },
      "execution_count": 89,
      "outputs": []
    },
    {
      "cell_type": "markdown",
      "source": [
        "![16d56a9b-018a-4585-8512-f01e804662e1.jpg](data:image/jpeg;base64,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)"
      ],
      "metadata": {
        "id": "fIbVpfGYMjXk"
      }
    },
    {
      "cell_type": "code",
      "source": [
        "# Perform the two-sample t-test\n",
        "t_value, p_value = stats.ttest_ind(subject_line_a, subject_line_b)"
      ],
      "metadata": {
        "id": "RtzE6CQWJ-Ao"
      },
      "execution_count": 90,
      "outputs": []
    },
    {
      "cell_type": "code",
      "source": [
        "# Print the results\n",
        "print(\"Subject Line A Average Open Rate: {:.2f}%\".format(average_open_rate_a * 100))\n",
        "print(\"Subject Line B Average Open Rate: {:.2f}%\".format(average_open_rate_b * 100))\n",
        "print(\"t-value: {:.2f}\".format(t_value))\n",
        "print(\"p-value: {:.4f}\".format(p_value))"
      ],
      "metadata": {
        "colab": {
          "base_uri": "https://localhost:8080/"
        },
        "id": "p3zqMyT6J-dX",
        "outputId": "e2e7a817-93be-4fb5-e7f5-0d2938ac8a6c"
      },
      "execution_count": 91,
      "outputs": [
        {
          "output_type": "stream",
          "name": "stdout",
          "text": [
            "Subject Line A Average Open Rate: 15.75%\n",
            "Subject Line B Average Open Rate: 21.50%\n",
            "t-value: -4.47\n",
            "p-value: 0.0001\n"
          ]
        }
      ]
    },
    {
      "cell_type": "code",
      "source": [
        "# Check if the p-value is less than 0.05 (significance level)\n",
        "if p_value < 0.05:\n",
        "    print(\"There is a statistically significant difference in the open rates between the two subject lines.\")\n",
        "    if average_open_rate_a < average_open_rate_b:\n",
        "        print(\"Subject Line B is more effective.\")\n",
        "    else:\n",
        "        print(\"Subject Line A is more effective.\")\n",
        "else:\n",
        "    print(\"There is no statistically significant difference in the open rates between the two subject lines.\")"
      ],
      "metadata": {
        "colab": {
          "base_uri": "https://localhost:8080/"
        },
        "id": "KnL7BFl8J-mt",
        "outputId": "d41b7123-54d6-43fd-b3a9-6deca79811c8"
      },
      "execution_count": 92,
      "outputs": [
        {
          "output_type": "stream",
          "name": "stdout",
          "text": [
            "There is a statistically significant difference in the open rates between the two subject lines.\n",
            "Subject Line B is more effective.\n"
          ]
        }
      ]
    },
    {
      "cell_type": "markdown",
      "source": [
        "# VISUALIZATION"
      ],
      "metadata": {
        "id": "6-pPZ5QXCggJ"
      }
    },
    {
      "cell_type": "code",
      "source": [
        "df = pd.DataFrame(data)\n",
        "\n",
        "# Create the bar plot\n",
        "grouped = df.groupby('Subject Line')['Open Rate'].mean()\n",
        "grouped.plot(kind='bar')\n",
        "plt.xlabel('Subject Line')\n",
        "plt.ylabel('Average Open Rate (%)')\n",
        "plt.title('A/B Test Results')\n",
        "plt.show()"
      ],
      "metadata": {
        "id": "7bLl2jOzJ-ye",
        "colab": {
          "base_uri": "https://localhost:8080/",
          "height": 292
        },
        "outputId": "e1c33398-3281-48ee-a105-84e7bb66a06e"
      },
      "execution_count": 93,
      "outputs": [
        {
          "output_type": "display_data",
          "data": {
            "text/plain": [
              "<Figure size 432x288 with 1 Axes>"
            ],
            "image/png": "[encoded data removed]"
          },
          "metadata": {
            "needs_background": "light"
          }
        }
      ]
    },
    {
      "cell_type": "code",
      "source": [
        "# Create the box plot\n",
        "df.boxplot(column='Open Rate', by='Subject Line')\n",
        "plt.xlabel('Subject Line')\n",
        "plt.ylabel('Open Rate (%)')\n",
        "plt.title('A/B Test Results')\n",
        "plt.show()"
      ],
      "metadata": {
        "colab": {
          "base_uri": "https://localhost:8080/",
          "height": 301
        },
        "id": "kYMkTulAFl-h",
        "outputId": "9124d025-bc1b-4add-98b8-d1cfda60fa29"
      },
      "execution_count": 94,
      "outputs": [
        {
          "output_type": "display_data",
          "data": {
            "text/plain": [
              "<Figure size 432x288 with 1 Axes>"
            ],
            "image/png": "[encoded data removed]"
          },
          "metadata": {
            "needs_background": "light"
          }
        }
      ]
    }
  ]
}